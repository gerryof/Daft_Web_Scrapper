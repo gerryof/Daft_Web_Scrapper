{
 "cells": [
  {
   "cell_type": "markdown",
   "metadata": {},
   "source": [
    "This webscrapper uses selenium to access the main Irish property website, Daft.ie, to extract the daily list of properties whith the search criteria. The list contains a number of data points that would be usefull for a machine learning model aimed at predicting property prices. The data is then exported to a local folder."
   ]
  },
  {
   "cell_type": "code",
   "execution_count": 2,
   "metadata": {},
   "outputs": [],
   "source": [
    "from selenium import webdriver\n",
    "from selenium.webdriver.support.ui import WebDriverWait \n",
    "import pandas as pd\n",
    "import numpy as np\n",
    "from random import random"
   ]
  },
  {
   "cell_type": "code",
   "execution_count": 3,
   "metadata": {},
   "outputs": [
    {
     "data": {
      "text/plain": [
       "<selenium.webdriver.remote.webelement.WebElement (session=\"741caeaf5cc46f79fc91684a79ce6351\", element=\"9c0ea9e3-43a1-4c3a-b308-143f7fe9c818\")>"
      ]
     },
     "execution_count": 3,
     "metadata": {},
     "output_type": "execute_result"
    }
   ],
   "source": [
    "#the website and search parameters\n",
    "url = 'https://www.daft.ie/property-for-sale/galway-city?numBeds_from=2&salePrice_to=200000'\n",
    "\n",
    "#intiate the selenium webdriver\n",
    "driver = webdriver.Chrome()\n",
    "driver.get(url)\n",
    "\n",
    "#navigate through the intial pop up windows\n",
    "driver.switch_to.active_element\n",
    "\n",
    "button = driver.find_elements_by_class_name( \"cc-modal__btn.cc-modal__btn--daft\")\n",
    "\n",
    "button[1].click()\n",
    "\n",
    "driver.switch_to.active_element\n",
    "\n",
    "driver.find_element_by_class_name('styles__CloseContainer-qea560-4.LGmOf').click()\n",
    "\n",
    "driver.switch_to.active_element"
   ]
  },
  {
   "cell_type": "code",
   "execution_count": 4,
   "metadata": {},
   "outputs": [],
   "source": [
    "# find the lowest level granualrity class that contains all of the data required on the search results page\n",
    "adds = driver.find_elements_by_class_name('Card__Content-x1sjdn-9.iEbIAZ')\n",
    "\n",
    "#find the url associated with each search result, to be used to navigate to the details page and extract further information.\n",
    "urlclass = driver.find_elements_by_css_selector('.SearchPage__Result-gg133s-2.itNYNv [href]')"
   ]
  },
  {
   "cell_type": "code",
   "execution_count": 5,
   "metadata": {},
   "outputs": [],
   "source": [
    "#data poitns from the search page\n",
    "price = []\n",
    "address =[]\n",
    "beds =[]\n",
    "baths = []\n",
    "size = []\n",
    "htype = []\n",
    "urls = []"
   ]
  },
  {
   "cell_type": "markdown",
   "metadata": {},
   "source": [
    "Next is the collection of the high level data points by interating through the web objects captured in adds\n",
    "Unfortuately there was no consistent class or xpath for the address field, however the line seperations where consistent when the overall class was extracted to text which allowed me to use the index to navigate to the correct data for each list."
   ]
  },
  {
   "cell_type": "code",
   "execution_count": 6,
   "metadata": {},
   "outputs": [],
   "source": [
    "for i in adds:\n",
    "    text = i.text\n",
    "    dlist = text.splitlines()\n",
    "    price.append(dlist[0])\n",
    "    address.append(dlist[1])\n",
    "    beds.append(dlist[2])\n",
    "    baths.append(dlist[3])\n",
    "    if 'm²' not in dlist[4]:\n",
    "        size.append(None)\n",
    "        htype.append(dlist[4])\n",
    "    else:\n",
    "        size.append(dlist[4])\n",
    "        htype.append(dlist[5])"
   ]
  },
  {
   "cell_type": "code",
   "execution_count": 7,
   "metadata": {},
   "outputs": [],
   "source": [
    "#iterate through the web objects in urlclass and extract the url string\n",
    "for i in urlclass:\n",
    "    urltext = i.get_attribute('href')\n",
    "    urls.append(urltext)"
   ]
  },
  {
   "cell_type": "code",
   "execution_count": 8,
   "metadata": {},
   "outputs": [],
   "source": [
    "#create a data frame and do a little initial data cleaning.\n",
    "df = pd.DataFrame( {'price' : price , 'address' : address , 'beds' : beds , 'baths': baths , 'size' : size , 'htype' : htype , 'urls' : urls} )  \n",
    "#remove test adds  \n",
    "df = df[( df['address'].str.contains('Testing ') == False)]\n",
    "#format price\n",
    "df['price'] = df['price'].str.extract('([0-9]+,[0-9]+)', expand=True)\n",
    "df['price'] = df['price'].str.replace(',' , '').astype('int64')\n",
    "#format beds\n",
    "df['beds'] = df['beds'].str.replace('Bed' , '').astype('int64')\n",
    "#format baths\n",
    "df['baths'] = df['baths'].str.replace('Bath' , '').astype('int64')\n",
    "#format size\n",
    "df['size'] = df['size'].str.replace('m²' , '' ).astype('float')"
   ]
  },
  {
   "cell_type": "code",
   "execution_count": 9,
   "metadata": {},
   "outputs": [],
   "source": [
    "#data points from the individual property pages.\n",
    "pdesc = []\n",
    "pprop = []\n",
    "pgps = []"
   ]
  },
  {
   "cell_type": "code",
   "execution_count": 11,
   "metadata": {},
   "outputs": [],
   "source": [
    "# using the urls reset the driver to each one individually and extract the description , properties and GPS coordinates.\n",
    "dfurls = df['urls']\n",
    "\n",
    "for i in dfurls:\n",
    "    driver.get(i)\n",
    "    \n",
    "    try:\n",
    "        desc= driver.find_element_by_class_name('PropertyPage__StandardParagraph-sc-14jmnho-8.kDFIyQ').text\n",
    "        pdesc.append(desc)\n",
    "    except:\n",
    "        pdesc.append(None)\n",
    "        \n",
    "    try:\n",
    "        prop= driver.find_element_by_class_name('PropertyDetailsList__PropertyDetailsListContainer-sc-1cjwtjz-0.bnzQrB').text\n",
    "        pprop.append(prop)\n",
    "    except:\n",
    "        pprop.append(None)\n",
    "        \n",
    "    try:\n",
    "        gps = driver.find_element_by_css_selector('.NewButton__ButtonContainer-yem86a-4.dFKaNf.button-container [href]')\n",
    "        gpsurl = gps.get_attribute('href')\n",
    "        pgps.append(gpsurl)\n",
    "    except:\n",
    "        pgps.append(None)"
   ]
  },
  {
   "cell_type": "code",
   "execution_count": 12,
   "metadata": {},
   "outputs": [],
   "source": [
    "#add to the dataframe\n",
    "df['desc'] = pdesc\n",
    "df['pprop'] = pprop\n",
    "df['pgps'] = pgps\n",
    "\n",
    "# format gps\n",
    "df['pgps'] = df['pgps'].str.extract('(loc:.*)' )\n",
    "df['pgps'] = df['pgps'].str.replace('loc:' , '')\n",
    "df['pgps'] = df['pgps'].str.replace('\\+-' , ' ')\n",
    "df['lat'] = df['pgps'].str.extract('(^.*)\\s').astype('float')\n",
    "df['long'] = df['pgps'].str.extract('\\s(.*)').astype('float')\n"
   ]
  },
  {
   "cell_type": "code",
   "execution_count": 14,
   "metadata": {},
   "outputs": [
    {
     "data": {
      "text/html": [
       "<div>\n",
       "<style scoped>\n",
       "    .dataframe tbody tr th:only-of-type {\n",
       "        vertical-align: middle;\n",
       "    }\n",
       "\n",
       "    .dataframe tbody tr th {\n",
       "        vertical-align: top;\n",
       "    }\n",
       "\n",
       "    .dataframe thead th {\n",
       "        text-align: right;\n",
       "    }\n",
       "</style>\n",
       "<table border=\"1\" class=\"dataframe\">\n",
       "  <thead>\n",
       "    <tr style=\"text-align: right;\">\n",
       "      <th></th>\n",
       "      <th>price</th>\n",
       "      <th>address</th>\n",
       "      <th>beds</th>\n",
       "      <th>baths</th>\n",
       "      <th>size</th>\n",
       "      <th>htype</th>\n",
       "      <th>urls</th>\n",
       "      <th>desc</th>\n",
       "      <th>pprop</th>\n",
       "      <th>pgps</th>\n",
       "      <th>lat</th>\n",
       "      <th>long</th>\n",
       "    </tr>\n",
       "  </thead>\n",
       "  <tbody>\n",
       "    <tr>\n",
       "      <th>0</th>\n",
       "      <td>200000</td>\n",
       "      <td>Apartment 21, Té­ Luaghaidh, Gleann Na Ré­, Re...</td>\n",
       "      <td>2</td>\n",
       "      <td>1</td>\n",
       "      <td>64.0</td>\n",
       "      <td>Apartment</td>\n",
       "      <td>https://www.daft.ie/for-sale/apartment-apartme...</td>\n",
       "      <td>Ocean Property Management are excited to offer...</td>\n",
       "      <td>Fully managed property with Ocean Property Man...</td>\n",
       "      <td>53.273146 9.001582</td>\n",
       "      <td>53.273146</td>\n",
       "      <td>9.001582</td>\n",
       "    </tr>\n",
       "    <tr>\n",
       "      <th>1</th>\n",
       "      <td>180000</td>\n",
       "      <td>9 Cluain Ard, Ballybrit, Co. Galway</td>\n",
       "      <td>3</td>\n",
       "      <td>2</td>\n",
       "      <td>NaN</td>\n",
       "      <td>Semi-D</td>\n",
       "      <td>https://www.daft.ie/for-sale/semi-detached-hou...</td>\n",
       "      <td>Semi detached three bedroom house. \\nRefurbish...</td>\n",
       "      <td>None</td>\n",
       "      <td>53.287977 9.001229</td>\n",
       "      <td>53.287977</td>\n",
       "      <td>9.001229</td>\n",
       "    </tr>\n",
       "    <tr>\n",
       "      <th>2</th>\n",
       "      <td>190000</td>\n",
       "      <td>26 Henry Street, Co. Galway</td>\n",
       "      <td>2</td>\n",
       "      <td>2</td>\n",
       "      <td>65.0</td>\n",
       "      <td>Terrace</td>\n",
       "      <td>https://www.daft.ie/for-sale/terraced-house-26...</td>\n",
       "      <td>This City centre terraced property is certainl...</td>\n",
       "      <td>ATTENTION INVESTORS &amp; BUILDERS.\\nTwo bedroom t...</td>\n",
       "      <td>53.270772 9.059481</td>\n",
       "      <td>53.270772</td>\n",
       "      <td>9.059481</td>\n",
       "    </tr>\n",
       "    <tr>\n",
       "      <th>3</th>\n",
       "      <td>195000</td>\n",
       "      <td>236 Gleann Na Ri, Murrough, Renmore, Co. Galway</td>\n",
       "      <td>2</td>\n",
       "      <td>2</td>\n",
       "      <td>73.0</td>\n",
       "      <td>Apartment</td>\n",
       "      <td>https://www.daft.ie/for-sale/apartment-236-gle...</td>\n",
       "      <td>O’Donnellan &amp; Joyce Auctioneers are pleased to...</td>\n",
       "      <td>Spacious apartment residence\\nOverlooking larg...</td>\n",
       "      <td>53.272133 9.004803</td>\n",
       "      <td>53.272133</td>\n",
       "      <td>9.004803</td>\n",
       "    </tr>\n",
       "    <tr>\n",
       "      <th>4</th>\n",
       "      <td>195000</td>\n",
       "      <td>307 Tirellan Heights, Headford Road, Co. Galway</td>\n",
       "      <td>3</td>\n",
       "      <td>1</td>\n",
       "      <td>87.0</td>\n",
       "      <td>Semi-D</td>\n",
       "      <td>https://www.daft.ie/for-sale/semi-detached-hou...</td>\n",
       "      <td>FOR SALE BY PRIVATE TREATY\\n\\nO'Donnellan &amp; Jo...</td>\n",
       "      <td>None</td>\n",
       "      <td>53.291675 9.044638</td>\n",
       "      <td>53.291675</td>\n",
       "      <td>9.044638</td>\n",
       "    </tr>\n",
       "  </tbody>\n",
       "</table>\n",
       "</div>"
      ],
      "text/plain": [
       "    price                                            address  beds  baths  \\\n",
       "0  200000  Apartment 21, Té­ Luaghaidh, Gleann Na Ré­, Re...     2      1   \n",
       "1  180000                9 Cluain Ard, Ballybrit, Co. Galway     3      2   \n",
       "2  190000                        26 Henry Street, Co. Galway     2      2   \n",
       "3  195000    236 Gleann Na Ri, Murrough, Renmore, Co. Galway     2      2   \n",
       "4  195000    307 Tirellan Heights, Headford Road, Co. Galway     3      1   \n",
       "\n",
       "   size      htype                                               urls  \\\n",
       "0  64.0  Apartment  https://www.daft.ie/for-sale/apartment-apartme...   \n",
       "1   NaN     Semi-D  https://www.daft.ie/for-sale/semi-detached-hou...   \n",
       "2  65.0    Terrace  https://www.daft.ie/for-sale/terraced-house-26...   \n",
       "3  73.0  Apartment  https://www.daft.ie/for-sale/apartment-236-gle...   \n",
       "4  87.0     Semi-D  https://www.daft.ie/for-sale/semi-detached-hou...   \n",
       "\n",
       "                                                desc  \\\n",
       "0  Ocean Property Management are excited to offer...   \n",
       "1  Semi detached three bedroom house. \\nRefurbish...   \n",
       "2  This City centre terraced property is certainl...   \n",
       "3  O’Donnellan & Joyce Auctioneers are pleased to...   \n",
       "4  FOR SALE BY PRIVATE TREATY\\n\\nO'Donnellan & Jo...   \n",
       "\n",
       "                                               pprop                pgps  \\\n",
       "0  Fully managed property with Ocean Property Man...  53.273146 9.001582   \n",
       "1                                               None  53.287977 9.001229   \n",
       "2  ATTENTION INVESTORS & BUILDERS.\\nTwo bedroom t...  53.270772 9.059481   \n",
       "3  Spacious apartment residence\\nOverlooking larg...  53.272133 9.004803   \n",
       "4                                               None  53.291675 9.044638   \n",
       "\n",
       "         lat      long  \n",
       "0  53.273146  9.001582  \n",
       "1  53.287977  9.001229  \n",
       "2  53.270772  9.059481  \n",
       "3  53.272133  9.004803  \n",
       "4  53.291675  9.044638  "
      ]
     },
     "execution_count": 14,
     "metadata": {},
     "output_type": "execute_result"
    }
   ],
   "source": [
    "df.head()"
   ]
  }
 ],
 "metadata": {
  "kernelspec": {
   "display_name": "Python 3",
   "language": "python",
   "name": "python3"
  },
  "language_info": {
   "codemirror_mode": {
    "name": "ipython",
    "version": 3
   },
   "file_extension": ".py",
   "mimetype": "text/x-python",
   "name": "python",
   "nbconvert_exporter": "python",
   "pygments_lexer": "ipython3",
   "version": "3.7.6"
  }
 },
 "nbformat": 4,
 "nbformat_minor": 4
}
