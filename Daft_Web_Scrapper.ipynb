{
 "cells": [
  {
   "cell_type": "markdown",
   "metadata": {},
   "source": [
    "This webscrapper uses selenium to access the main Irish property website, Daft.ie, to extract the daily list of properties whith the search criteria. The list contains a number of data points that would be usefull for a machine learning model aimed at predicting property prices. The data is then exported to a local folder."
   ]
  },
  {
   "cell_type": "code",
   "execution_count": 2,
   "metadata": {},
   "outputs": [],
   "source": [
    "from selenium import webdriver\n",
    "from selenium.webdriver.support.ui import WebDriverWait \n",
    "import pandas as pd\n",
    "import numpy as np\n",
    "from random import random"
   ]
  },
  {
   "cell_type": "code",
   "execution_count": 3,
   "metadata": {},
   "outputs": [
    {
     "data": {
      "text/plain": [
       "<selenium.webdriver.remote.webelement.WebElement (session=\"741caeaf5cc46f79fc91684a79ce6351\", element=\"9c0ea9e3-43a1-4c3a-b308-143f7fe9c818\")>"
      ]
     },
     "execution_count": 3,
     "metadata": {},
     "output_type": "execute_result"
    }
   ],
   "source": [
    "#the website and search parameters\n",
    "url = 'https://www.daft.ie/property-for-sale/galway-city?numBeds_from=2&salePrice_to=200000'\n",
    "\n",
    "#intiate the selenium webdriver\n",
    "driver = webdriver.Chrome()\n",
    "driver.get(url)\n",
    "\n",
    "#navigate through the intial pop up windows\n",
    "driver.switch_to.active_element\n",
    "\n",
    "button = driver.find_elements_by_class_name( \"cc-modal__btn.cc-modal__btn--daft\")\n",
    "\n",
    "button[1].click()\n",
    "\n",
    "driver.switch_to.active_element\n",
    "\n",
    "driver.find_element_by_class_name('styles__CloseContainer-qea560-4.LGmOf').click()\n",
    "\n",
    "driver.switch_to.active_element"
   ]
  },
  {
   "cell_type": "code",
   "execution_count": 4,
   "metadata": {},
   "outputs": [],
   "source": [
    "# find the lowest level granualrity class that contains all of the data required on the search results page\n",
    "adds = driver.find_elements_by_class_name('Card__Content-x1sjdn-9.iEbIAZ')\n",
    "\n",
    "#find the url associated with each search result, to be used to navigate to the details page and extract further information.\n",
    "urlclass = driver.find_elements_by_css_selector('.SearchPage__Result-gg133s-2.itNYNv [href]')"
   ]
  },
  {
   "cell_type": "code",
   "execution_count": 5,
   "metadata": {},
   "outputs": [],
   "source": [
    "#data poitns from the search page\n",
    "price = []\n",
    "address =[]\n",
    "beds =[]\n",
    "baths = []\n",
    "size = []\n",
    "htype = []\n",
    "urls = []"
   ]
  },
  {
   "cell_type": "markdown",
   "metadata": {},
   "source": [
    "Next is the collection of the high level data points by interating through the web objects captured in adds\n",
    "Unfortuately there was no consistent class or xpath for the address field, however the line seperations where consistent when the overall class was extracted to text which allowed me to use the index to navigate to the correct data for each list."
   ]
  },
  {
   "cell_type": "code",
   "execution_count": 6,
   "metadata": {},
   "outputs": [],
   "source": [
    "for i in adds:\n",
    "    text = i.text\n",
    "    dlist = text.splitlines()\n",
    "    price.append(dlist[0])\n",
    "    address.append(dlist[1])\n",
    "    beds.append(dlist[2])\n",
    "    baths.append(dlist[3])\n",
    "    if 'm²' not in dlist[4]:\n",
    "        size.append(None)\n",
    "        htype.append(dlist[4])\n",
    "    else:\n",
    "        size.append(dlist[4])\n",
    "        htype.append(dlist[5])"
   ]
  },
  {
   "cell_type": "code",
   "execution_count": 7,
   "metadata": {},
   "outputs": [],
   "source": [
    "#iterate through the web objects in urlclass and extract the url string\n",
    "for i in urlclass:\n",
    "    urltext = i.get_attribute('href')\n",
    "    urls.append(urltext)"
   ]
  },
  {
   "cell_type": "code",
   "execution_count": 8,
   "metadata": {},
   "outputs": [],
   "source": [
    "#create a data frame and do a little initial data cleaning.\n",
    "df = pd.DataFrame( {'price' : price , 'address' : address , 'beds' : beds , 'baths': baths , 'size' : size , 'htype' : htype , 'urls' : urls} )  \n",
    "#remove test adds  \n",
    "df = df[( df['address'].str.contains('Testing ') == False)]\n",
    "#format price\n",
    "df['price'] = df['price'].str.extract('([0-9]+,[0-9]+)', expand=True)\n",
    "df['price'] = df['price'].str.replace(',' , '').astype('int64')\n",
    "#format beds\n",
    "df['beds'] = df['beds'].str.replace('Bed' , '').astype('int64')\n",
    "#format baths\n",
    "df['baths'] = df['baths'].str.replace('Bath' , '').astype('int64')\n",
    "#format size\n",
    "df['size'] = df['size'].str.replace('m²' , '' ).astype('float')"
   ]
  },
  {
   "cell_type": "code",
   "execution_count": 9,
   "metadata": {},
   "outputs": [],
   "source": [
    "#data points from the individual property pages.\n",
    "pdesc = []\n",
    "pprop = []\n",
    "pgps = []"
   ]
  },
  {
   "cell_type": "code",
   "execution_count": 10,
   "metadata": {},
   "outputs": [
    {
     "ename": "NameError",
     "evalue": "name 'dfurls' is not defined",
     "output_type": "error",
     "traceback": [
      "\u001b[1;31m---------------------------------------------------------------------------\u001b[0m",
      "\u001b[1;31mNameError\u001b[0m                                 Traceback (most recent call last)",
      "\u001b[1;32m<ipython-input-10-6cb527f5ba72>\u001b[0m in \u001b[0;36m<module>\u001b[1;34m\u001b[0m\n\u001b[0;32m      1\u001b[0m \u001b[1;31m# using the urls reset the driver to each one individually and extract the description , properties and GPS coordinates.\u001b[0m\u001b[1;33m\u001b[0m\u001b[1;33m\u001b[0m\u001b[1;33m\u001b[0m\u001b[0m\n\u001b[1;32m----> 2\u001b[1;33m \u001b[1;32mfor\u001b[0m \u001b[0mi\u001b[0m \u001b[1;32min\u001b[0m \u001b[0mdfurls\u001b[0m\u001b[1;33m:\u001b[0m\u001b[1;33m\u001b[0m\u001b[1;33m\u001b[0m\u001b[0m\n\u001b[0m\u001b[0;32m      3\u001b[0m     \u001b[0mdriver\u001b[0m\u001b[1;33m.\u001b[0m\u001b[0mget\u001b[0m\u001b[1;33m(\u001b[0m\u001b[0mi\u001b[0m\u001b[1;33m)\u001b[0m\u001b[1;33m\u001b[0m\u001b[1;33m\u001b[0m\u001b[0m\n\u001b[0;32m      4\u001b[0m \u001b[1;33m\u001b[0m\u001b[0m\n\u001b[0;32m      5\u001b[0m     \u001b[1;32mtry\u001b[0m\u001b[1;33m:\u001b[0m\u001b[1;33m\u001b[0m\u001b[1;33m\u001b[0m\u001b[0m\n",
      "\u001b[1;31mNameError\u001b[0m: name 'dfurls' is not defined"
     ]
    }
   ],
   "source": [
    "# using the urls reset the driver to each one individually and extract the description , properties and GPS coordinates.\n",
    "for i in dfurls:\n",
    "    driver.get(i)\n",
    "    \n",
    "    try:\n",
    "        desc= driver.find_element_by_class_name('PropertyPage__StandardParagraph-sc-14jmnho-8.kDFIyQ').text\n",
    "        pdesc.append(desc)\n",
    "    except:\n",
    "        pdesc.append(None)\n",
    "        \n",
    "    try:\n",
    "        prop= driver.find_element_by_class_name('PropertyDetailsList__PropertyDetailsListContainer-sc-1cjwtjz-0.bnzQrB').text\n",
    "        pprop.append(prop)\n",
    "    except:\n",
    "        pprop.append(None)\n",
    "        \n",
    "    try:\n",
    "        gps = driver.find_element_by_css_selector('.NewButton__ButtonContainer-yem86a-4.dFKaNf.button-container [href]')\n",
    "        gpsurl = gps.get_attribute('href')\n",
    "        pgps.append(gpsurl)\n",
    "    except:\n",
    "        pgps.append(None)"
   ]
  },
  {
   "cell_type": "code",
   "execution_count": null,
   "metadata": {},
   "outputs": [],
   "source": [
    "#add to the dataframe\n",
    "df['desc'] = pdesc\n",
    "df['pprop'] = pprop\n",
    "df['pgps'] = pgps\n",
    "\n",
    "# format gps\n",
    "df['pgps'] = df['pgps'].str.extract('(loc:.*)' )\n",
    "df['pgps'] = df['pgps'].str.replace('loc:' , '')\n",
    "df['pgps'] = df['pgps'].str.replace('\\+-' , ' ')\n",
    "df['lat'] = df['pgps'].str.extract('(^.*)\\s').astype('float')\n",
    "df['long'] = df['pgps'].str.extract('\\s(.*)').astype('float')\n"
   ]
  },
  {
   "cell_type": "code",
   "execution_count": null,
   "metadata": {},
   "outputs": [],
   "source": []
  }
 ],
 "metadata": {
  "kernelspec": {
   "display_name": "Python 3",
   "language": "python",
   "name": "python3"
  },
  "language_info": {
   "codemirror_mode": {
    "name": "ipython",
    "version": 3
   },
   "file_extension": ".py",
   "mimetype": "text/x-python",
   "name": "python",
   "nbconvert_exporter": "python",
   "pygments_lexer": "ipython3",
   "version": "3.7.6"
  }
 },
 "nbformat": 4,
 "nbformat_minor": 4
}
